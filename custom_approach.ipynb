{
 "cells": [
  {
   "cell_type": "code",
   "execution_count": null,
   "metadata": {
    "collapsed": true
   },
   "outputs": [],
   "source": [
    "import os\n",
    "import trainer as tr\n",
    "os.environ['KMP_DUPLICATE_LIB_OK'] = 'True'\n",
    "\n",
    "N_EPOCHS_PRETEXT = 400\n",
    "N_EPOCHS_SEGMENTATION = 1000\n",
    "BATCH_SIZE = 256\n",
    "TECHNIQUE = 'custom_approach'\n",
    "P_THRESHOLD = 0.6"
   ]
  },
  {
   "cell_type": "code",
   "execution_count": null,
   "outputs": [],
   "source": [
    "trainer = tr.CustomApproachTrainer(n_epochs_pretext=5, n_epochs_segmentation=10)\n",
    "data_pretext, phase = tr.get_custom_approach_pretext(batch_size=64)\n",
    "if phase == 'pretext':\n",
    "    trainer.train_pretext(**data_pretext)\n",
    "data_segmentation, phase = tr.get_segmentation(data_pretext['model'], data_pretext['optimizer'],\n",
    "                                            batch_size=64, technique='custom_approach')\n",
    "# FINETUNE\n",
    "if phase == 'fine-tune':\n",
    "    trainer.train_segmentation(**data_segmentation)\n",
    "model = data_segmentation['model']\n",
    "test_data = tr.get_eval_dataset()\n",
    "# TEST\n",
    "accuracy = trainer.evaluate(test_data, model, p_threshold=0.6)\n",
    "print(accuracy)"
   ],
   "metadata": {
    "collapsed": false,
    "pycharm": {
     "name": "#%%\n"
    }
   }
  }
 ],
 "metadata": {
  "kernelspec": {
   "display_name": "Python 3",
   "language": "python",
   "name": "python3"
  },
  "language_info": {
   "codemirror_mode": {
    "name": "ipython",
    "version": 2
   },
   "file_extension": ".py",
   "mimetype": "text/x-python",
   "name": "python",
   "nbconvert_exporter": "python",
   "pygments_lexer": "ipython2",
   "version": "2.7.6"
  }
 },
 "nbformat": 4,
 "nbformat_minor": 0
}