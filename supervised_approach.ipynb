{
 "cells": [
  {
   "cell_type": "code",
   "execution_count": 1,
   "metadata": {
    "collapsed": true
   },
   "outputs": [],
   "source": [
    "import os\n",
    "import trainer as tr\n",
    "import matplotlib.pyplot as plt\n",
    "import model.utils.utility as utils\n",
    "from torch.utils.data import DataLoader\n",
    "os.environ['KMP_DUPLICATE_LIB_OK'] = 'True'\n",
    "\n",
    "# UNCOMMENT TO RUN THE FIRST BATCH OF EXPERIMENTS\n",
    "# N_EPOCHS_SEGMENTATION = 10000\n",
    "# BATCH_SIZE = 64\n",
    "# TECHNIQUE = 'supervised'\n",
    "# P_THRESHOLD = 0.5\n",
    "# IoU_THRESHOLD = 0.65\n",
    "# DATA_SPLIT = [0.2, 0.1, 0.7]\n",
    "# CONF = 1\n",
    "\n",
    "# UNCOMMENT TO RUN THE SECOND BATCH OF EXPERIMENTS\n",
    "# N_EPOCHS_SEGMENTATION = 10000\n",
    "# BATCH_SIZE = 64\n",
    "# TECHNIQUE = 'supervised'\n",
    "# P_THRESHOLD = 0.5\n",
    "# IoU_THRESHOLD = 0.65\n",
    "# DATA_SPLIT = [0.2, 0.1, 0.7]\n",
    "# CONF = 2\n",
    "\n",
    "# UNCOMMENT TO RUN THE THIRD BATCH OF EXPERIMENTS\n",
    "N_EPOCHS_SEGMENTATION = 13000\n",
    "BATCH_SIZE = 160\n",
    "TECHNIQUE = 'supervised'\n",
    "P_THRESHOLD = 0.5\n",
    "IoU_THRESHOLD = 0.65\n",
    "DATA_SPLIT = [0.6, 0.1, 0.3]\n",
    "CONF = 3"
   ]
  },
  {
   "cell_type": "code",
   "execution_count": 2,
   "outputs": [
    {
     "name": "stdout",
     "output_type": "stream",
     "text": [
      "Loading Model...\n",
      "Model Loaded Correctly\n"
     ]
    }
   ],
   "source": [
    "trainer = tr.SupervisedTrainer(n_epochs_segmentation=N_EPOCHS_SEGMENTATION, technique=TECHNIQUE)\n",
    "data, phase = tr.get_supervised_data(batch_size=BATCH_SIZE, split=DATA_SPLIT, conf=CONF)\n",
    "if phase == 'train':\n",
    "    trainer.train_segmentation(**data)"
   ],
   "metadata": {
    "collapsed": false,
    "pycharm": {
     "name": "#%%\n"
    }
   }
  },
  {
   "cell_type": "code",
   "execution_count": 3,
   "outputs": [
    {
     "name": "stderr",
     "output_type": "stream",
     "text": [
      "  0%|          | 0/1886 [00:00<?, ?it/s]C:\\Users\\Noisecape\\anaconda3\\lib\\site-packages\\torch\\nn\\functional.py:718: UserWarning: Named tensors and all their associated APIs are an experimental feature and subject to change. Please do not use them for anything important until they are released as stable. (Triggered internally at  ..\\c10/core/TensorImpl.h:1156.)\n",
      "  return torch.max_pool2d(input, kernel_size, stride, padding, dilation, ceil_mode)\n",
      "                                                                                                                                  \r"
     ]
    },
    {
     "ename": "KeyboardInterrupt",
     "evalue": "",
     "output_type": "error",
     "traceback": [
      "\u001B[1;31m---------------------------------------------------------------------------\u001B[0m",
      "\u001B[1;31mKeyboardInterrupt\u001B[0m                         Traceback (most recent call last)",
      "\u001B[1;32m<ipython-input-3-a330414a389c>\u001B[0m in \u001B[0;36m<module>\u001B[1;34m\u001B[0m\n\u001B[0;32m      2\u001B[0m \u001B[0mtest_data\u001B[0m \u001B[1;33m=\u001B[0m \u001B[0mtr\u001B[0m\u001B[1;33m.\u001B[0m\u001B[0mSegmentationDataset\u001B[0m\u001B[1;33m(\u001B[0m\u001B[0mmode\u001B[0m\u001B[1;33m=\u001B[0m\u001B[1;34m'test'\u001B[0m\u001B[1;33m,\u001B[0m \u001B[0msplit_perc\u001B[0m\u001B[1;33m=\u001B[0m\u001B[0mDATA_SPLIT\u001B[0m\u001B[1;33m)\u001B[0m\u001B[1;33m\u001B[0m\u001B[1;33m\u001B[0m\u001B[0m\n\u001B[0;32m      3\u001B[0m \u001B[0mdataloader_test\u001B[0m \u001B[1;33m=\u001B[0m \u001B[0mDataLoader\u001B[0m\u001B[1;33m(\u001B[0m\u001B[0mtest_data\u001B[0m\u001B[1;33m,\u001B[0m \u001B[0mbatch_size\u001B[0m\u001B[1;33m=\u001B[0m\u001B[1;36m1\u001B[0m\u001B[1;33m,\u001B[0m \u001B[0mshuffle\u001B[0m\u001B[1;33m=\u001B[0m\u001B[1;32mTrue\u001B[0m\u001B[1;33m)\u001B[0m\u001B[1;33m\u001B[0m\u001B[1;33m\u001B[0m\u001B[0m\n\u001B[1;32m----> 4\u001B[1;33m accuracy, accuracy_no_t, dice_score, sensitivity, specificity = trainer.evaluate(dataloader_test, model,\n\u001B[0m\u001B[0;32m      5\u001B[0m                                                                                p_threshold=0.5, T=0.65)\n\u001B[0;32m      6\u001B[0m \u001B[1;33m\u001B[0m\u001B[0m\n",
      "\u001B[1;32m~\\PycharmProjects\\skin-cancer-segmentation\\trainer.py\u001B[0m in \u001B[0;36mevaluate\u001B[1;34m(self, dataloader, model, p_threshold, T)\u001B[0m\n\u001B[0;32m    452\u001B[0m                 false_positives = torch.sum(torch.tensor([1.0 if p == 1.0 and g == 0.0 else 0.0\n\u001B[0;32m    453\u001B[0m                                                          for p, g in zip(prediction, gt)]))\n\u001B[1;32m--> 454\u001B[1;33m                 false_negatives = torch.sum(torch.tensor([1.0 if p == 0.0 and g == 1.0 else 0.0\n\u001B[0m\u001B[0;32m    455\u001B[0m                                                          for p, g in zip(prediction, gt)]))\n\u001B[0;32m    456\u001B[0m                 \u001B[0miou\u001B[0m \u001B[1;33m=\u001B[0m \u001B[0mtrue_positives\u001B[0m \u001B[1;33m/\u001B[0m \u001B[1;33m(\u001B[0m\u001B[0mtrue_positives\u001B[0m \u001B[1;33m+\u001B[0m \u001B[0mfalse_negatives\u001B[0m \u001B[1;33m+\u001B[0m \u001B[0mfalse_positives\u001B[0m\u001B[1;33m)\u001B[0m\u001B[1;33m\u001B[0m\u001B[1;33m\u001B[0m\u001B[0m\n",
      "\u001B[1;32m~\\PycharmProjects\\skin-cancer-segmentation\\trainer.py\u001B[0m in \u001B[0;36m<listcomp>\u001B[1;34m(.0)\u001B[0m\n\u001B[0;32m    452\u001B[0m                 false_positives = torch.sum(torch.tensor([1.0 if p == 1.0 and g == 0.0 else 0.0\n\u001B[0;32m    453\u001B[0m                                                          for p, g in zip(prediction, gt)]))\n\u001B[1;32m--> 454\u001B[1;33m                 false_negatives = torch.sum(torch.tensor([1.0 if p == 0.0 and g == 1.0 else 0.0\n\u001B[0m\u001B[0;32m    455\u001B[0m                                                          for p, g in zip(prediction, gt)]))\n\u001B[0;32m    456\u001B[0m                 \u001B[0miou\u001B[0m \u001B[1;33m=\u001B[0m \u001B[0mtrue_positives\u001B[0m \u001B[1;33m/\u001B[0m \u001B[1;33m(\u001B[0m\u001B[0mtrue_positives\u001B[0m \u001B[1;33m+\u001B[0m \u001B[0mfalse_negatives\u001B[0m \u001B[1;33m+\u001B[0m \u001B[0mfalse_positives\u001B[0m\u001B[1;33m)\u001B[0m\u001B[1;33m\u001B[0m\u001B[1;33m\u001B[0m\u001B[0m\n",
      "\u001B[1;31mKeyboardInterrupt\u001B[0m: "
     ]
    }
   ],
   "source": [
    "model = data['model']\n",
    "test_data = tr.SegmentationDataset(mode='test', split_perc=DATA_SPLIT)\n",
    "dataloader_test = DataLoader(test_data, batch_size=1, shuffle=True)\n",
    "accuracy, accuracy_no_t, dice_score, sensitivity, specificity = trainer.evaluate(dataloader_test, model,\n",
    "                                                                               p_threshold=0.5, T=0.65)"
   ],
   "metadata": {
    "collapsed": false,
    "pycharm": {
     "name": "#%%\n"
    }
   }
  },
  {
   "cell_type": "code",
   "execution_count": 4,
   "outputs": [
    {
     "name": "stdout",
     "output_type": "stream",
     "text": [
      "Thresholded_IoU 0.52\n",
      "IoU 0.66\n",
      "Dice Score 0.76\n",
      "Precision 0.86\n",
      "Recall 0.94\n"
     ]
    }
   ],
   "source": [
    "print(f'Thresholded_IoU {accuracy:.2f}')\n",
    "print(f'IoU {accuracy_no_t:.2f}')\n",
    "print(f'Dice Score {dice_score:.2f}')\n",
    "print(f'Precision {sensitivity:.2f}')\n",
    "print(f'Recall {specificity:.2f}')"
   ],
   "metadata": {
    "collapsed": false,
    "pycharm": {
     "name": "#%%\n"
    }
   }
  },
  {
   "cell_type": "code",
   "execution_count": 4,
   "outputs": [
    {
     "data": {
      "text/plain": "<Figure size 432x288 with 1 Axes>",
      "image/png": "[encoded data removed]"
     },
     "metadata": {
      "needs_background": "light"
     },
     "output_type": "display_data"
    }
   ],
   "source": [
    "def plot_train_val_history(epoch, loss_history, val_history, title):\n",
    "    plt.plot([el for el in range(epoch)], loss_history[:epoch], 'r', label='Train Loss')\n",
    "    plt.plot([el for el in range(epoch)], val_history[:epoch], 'b', label='Val Loss')\n",
    "    plt.title(f'Train Loss vs Validation Loss - {title}')\n",
    "    plt.xlabel('Epochs')\n",
    "    plt.ylabel('Loss')\n",
    "    plt.legend()\n",
    "    plt.show()\n",
    "\n",
    "path_segmentation = './saved_models/segmentation_checkpoint_supervised.pth'\n",
    "epoch_seg, loss_history_seg, val_history_seg = utils.get_train_history(path=path_segmentation)\n",
    "plot_train_val_history(epoch_seg, loss_history_seg, val_history_seg, title='Segmentation')"
   ],
   "metadata": {
    "collapsed": false,
    "pycharm": {
     "name": "#%%\n"
    }
   }
  }
 ],
 "metadata": {
  "kernelspec": {
   "display_name": "Python 3",
   "language": "python",
   "name": "python3"
  },
  "language_info": {
   "codemirror_mode": {
    "name": "ipython",
    "version": 2
   },
   "file_extension": ".py",
   "mimetype": "text/x-python",
   "name": "python",
   "nbconvert_exporter": "python",
   "pygments_lexer": "ipython2",
   "version": "2.7.6"
  }
 },
 "nbformat": 4,
 "nbformat_minor": 0
}