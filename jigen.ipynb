{
 "cells": [
  {
   "cell_type": "code",
   "execution_count": 1,
   "metadata": {},
   "outputs": [],
   "source": [
    "import trainer as tr\n",
    "import os\n",
    "import matplotlib.pyplot as plt\n",
    "import model.utils.utility as utils\n",
    "from torch.utils.data import DataLoader\n",
    "os.environ['KMP_DUPLICATE_LIB_OK'] = 'True'\n",
    "\n",
    "N_EPOCHS = 950\n",
    "P = 20\n",
    "N = 3\n",
    "BATCH_SIZE = 64\n",
    "TECHNIQUE = 'jigen'\n",
    "P_THRESHOLD = 0.5\n",
    "IoU_THRESHOLD = 0.65\n",
    "FULL_DATA=False"
   ]
  },
  {
   "cell_type": "code",
   "execution_count": 2,
   "metadata": {
    "pycharm": {
     "name": "#%%\n"
    }
   },
   "outputs": [],
   "source": [
    "# JiGen\n",
    "trainer = tr.JigenTrainer(n_epochs=N_EPOCHS, P=P, N=N, batch_size=BATCH_SIZE)\n",
    "data, phase = tr.get_jigen_data(P=P, batch_size=BATCH_SIZE, full_data=FULL_DATA)\n",
    "if phase == 'train':\n",
    "    trainer.train(**data)"
   ]
  },
  {
   "cell_type": "code",
   "execution_count": 3,
   "metadata": {
    "pycharm": {
     "name": "#%%\n"
    }
   },
   "outputs": [
    {
     "name": "stderr",
     "output_type": "stream",
     "text": [
      "  0%|          | 0/809 [00:00<?, ?it/s]C:\\Users\\Noisecape\\anaconda3\\lib\\site-packages\\torch\\nn\\functional.py:718: UserWarning: Named tensors and all their associated APIs are an experimental feature and subject to change. Please do not use them for anything important until they are released as stable. (Triggered internally at  ..\\c10/core/TensorImpl.h:1156.)\n",
      "  return torch.max_pool2d(input, kernel_size, stride, padding, dilation, ceil_mode)\n",
      "                                                                                                                                 \r"
     ]
    }
   ],
   "source": [
    "model = data['model']\n",
    "test_data = tr.JiGenData(P=P, mode='test',split=[0.6, 0.1, 0.3])\n",
    "dataloader_test = DataLoader(test_data, batch_size=1, shuffle=True)\n",
    "accuracy_t_IoU, accuracy_IoU, dice_score, sensitivity, specificity = trainer.evaluate(dataloader_test,\n",
    "                                                                                      model,\n",
    "                                                                                      p_threshold=P_THRESHOLD,\n",
    "                                                                                      T=IoU_THRESHOLD)"
   ]
  },
  {
   "cell_type": "code",
   "execution_count": 4,
   "metadata": {},
   "outputs": [
    {
     "name": "stdout",
     "output_type": "stream",
     "text": [
      "Thresholded_IoU 0.89\n",
      "IoU 0.90\n",
      "Dice Score 0.94\n",
      "Sensitivity 0.95\n",
      "Specificity 0.97\n"
     ]
    }
   ],
   "source": [
    "print(f'Thresholded_IoU {accuracy_t_IoU:.2f}')\n",
    "print(f'IoU {accuracy_IoU:.2f}')\n",
    "print(f'Dice Score {dice_score:.2f}')\n",
    "print(f'Sensitivity {sensitivity:.2f}')\n",
    "print(f'Specificity {specificity:.2f}')"
   ]
  },
  {
   "cell_type": "code",
   "execution_count": 5,
   "metadata": {},
   "outputs": [
    {
     "data": {
      "text/plain": "<Figure size 432x288 with 1 Axes>",
      "image/png": "[encoded data removed]"
     },
     "metadata": {
      "needs_background": "light"
     },
     "output_type": "display_data"
    }
   ],
   "source": [
    "def plot_train_val_history(epoch, loss_history, val_history):\n",
    "    plt.plot([el for el in range(epoch)], loss_history[:epoch], 'r', label='Train Loss')\n",
    "    plt.plot([el for el in range(epoch)], val_history[:epoch], 'b', label='Val Loss')\n",
    "    plt.title('Train Loss vs Validation Loss')\n",
    "    plt.xlabel('Epochs')\n",
    "    plt.ylabel('Loss')\n",
    "    plt.legend()\n",
    "    plt.show()\n",
    "\n",
    "path = './saved_models/jigen_checkpoint.pth'\n",
    "epoch, loss_history, val_history = utils.get_train_history(path=path)\n",
    "plot_train_val_history(epoch, loss_history, val_history)"
   ]
  }
 ],
 "metadata": {
  "kernelspec": {
   "display_name": "Python 3",
   "language": "python",
   "name": "python3"
  },
  "language_info": {
   "codemirror_mode": {
    "name": "ipython",
    "version": 3
   },
   "file_extension": ".py",
   "mimetype": "text/x-python",
   "name": "python",
   "nbconvert_exporter": "python",
   "pygments_lexer": "ipython3",
   "version": "3.8.8"
  }
 },
 "nbformat": 4,
 "nbformat_minor": 1
}